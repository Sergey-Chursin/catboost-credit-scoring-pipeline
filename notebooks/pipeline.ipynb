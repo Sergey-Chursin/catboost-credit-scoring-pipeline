version https://git-lfs.github.com/spec/v1
oid sha256:b55cf27420b4da63a8bc0e6bde7aca4fe97030d9b39f0882d49c26b70d2d1d68
size 226808
