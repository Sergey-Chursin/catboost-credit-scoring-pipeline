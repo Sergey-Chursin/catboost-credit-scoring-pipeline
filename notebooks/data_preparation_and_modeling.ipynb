version https://git-lfs.github.com/spec/v1
oid sha256:f5342effdbb4e76a35ec02ebf560b3fe5801fe55913bcd6b0716b7f760ec7e32
size 69660783
