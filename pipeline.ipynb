{
 "cells": [
  {
   "cell_type": "code",
   "execution_count": 79,
   "id": "16440a4c-3e36-4614-958c-e83a5e2e5aad",
   "metadata": {},
   "outputs": [],
   "source": [
    "import os\n",
    "from typing import List, Optional, Dict, Tuple, Any\n",
    "import numpy as np\n",
    "import pandas as pd\n",
    "from tqdm.notebook import tqdm\n",
    "from sklearn.model_selection import StratifiedKFold, train_test_split\n",
    "from sklearn.metrics import roc_auc_score\n",
    "from catboost import CatBoostClassifier, Pool\n",
    "from sklearn.pipeline import Pipeline\n",
    "from sklearn.preprocessing import FunctionTransformer\n",
    "from sklearn.impute import SimpleImputer"
   ]
  },
  {
   "cell_type": "code",
   "execution_count": 52,
   "id": "695f7092-6790-43f7-9177-1e2d4ea6ddd0",
   "metadata": {},
   "outputs": [],
   "source": [
    "# Создаём внутреннюю папку проекта\n",
    "os.makedirs('pipeline', exist_ok=True) "
   ]
  },
  {
   "cell_type": "markdown",
   "id": "a991711a-05f4-4b8a-a3bc-11faa01c8919",
   "metadata": {},
   "source": [
    "# Lists of features for the functions"
   ]
  },
  {
   "cell_type": "code",
   "execution_count": 29,
   "id": "cd86d03c-70ae-4b3c-8a89-abb51550015f",
   "metadata": {},
   "outputs": [],
   "source": [
    "# rn - уникальный признак\n",
    "\n",
    "# Бинаризированные\n",
    "pre_features = [\n",
    "    'pre_since_opened',\n",
    "    'pre_since_confirmed',\n",
    "    'pre_pterm',\n",
    "    'pre_fterm',\n",
    "    'pre_till_pclose',\n",
    "    'pre_till_fclose',\n",
    "    'pre_loans_credit_limit',\n",
    "    'pre_loans_next_pay_summ',\n",
    "    'pre_loans_outstanding',\n",
    "    'pre_loans_max_overdue_sum',\n",
    "    'pre_loans_credit_cost_rate',\n",
    "    'pre_loans5',\n",
    "    'pre_loans530',\n",
    "    'pre_loans3060',\n",
    "    'pre_loans6090',\n",
    "    'pre_loans90',\n",
    "    'pre_util',\n",
    "    'pre_over2limit',\n",
    "    'pre_maxover2limit'\n",
    "]\n",
    "\n",
    "# Закодированные\n",
    "enc_features = [\n",
    "    'enc_loans_account_holder_type',\n",
    "    'enc_loans_credit_status',\n",
    "    'enc_loans_credit_type',\n",
    "    'enc_loans_account_cur'\n",
    "]\n",
    "\n",
    "# Статусы ежемесячных платежей\n",
    "enc_paym_features = [\n",
    "    'enc_paym_0',\n",
    "    'enc_paym_1',\n",
    "    'enc_paym_2',\n",
    "    'enc_paym_3',\n",
    "    'enc_paym_4',\n",
    "    'enc_paym_5',\n",
    "    'enc_paym_6',\n",
    "    'enc_paym_7',\n",
    "    'enc_paym_8',\n",
    "    'enc_paym_9',\n",
    "    'enc_paym_10',\n",
    "    'enc_paym_11',\n",
    "    'enc_paym_12',\n",
    "    'enc_paym_13',\n",
    "    'enc_paym_14',\n",
    "    'enc_paym_15',\n",
    "    'enc_paym_16',\n",
    "    'enc_paym_17',\n",
    "    'enc_paym_18',\n",
    "    'enc_paym_19',\n",
    "    'enc_paym_20',\n",
    "    'enc_paym_21',\n",
    "    'enc_paym_22',\n",
    "    'enc_paym_23',\n",
    "    'enc_paym_24'\n",
    "]\n",
    "\n",
    "#  Флаги\n",
    "flag_features = [\n",
    "    'is_zero_loans5',\n",
    "    'is_zero_loans530',\n",
    "    'is_zero_loans3060',\n",
    "    'is_zero_loans6090',\n",
    "    'is_zero_loans90',\n",
    "    'is_zero_util',\n",
    "    'is_zero_over2limit',\n",
    "    'is_zero_maxover2limit',\n",
    "    'pclose_flag',\n",
    "    'fclose_flag'\n",
    "]"
   ]
  },
  {
   "cell_type": "markdown",
   "id": "399cc100-da8b-4cd5-b7a5-c739807ef904",
   "metadata": {},
   "source": [
    "## List of features to download from the original dataset"
   ]
  },
  {
   "cell_type": "code",
   "execution_count": 18,
   "id": "1809be45-ffa0-479d-ab99-ed02a40fd67d",
   "metadata": {},
   "outputs": [
    {
     "data": {
      "text/plain": [
       "(20931476, 61)"
      ]
     },
     "execution_count": 18,
     "metadata": {},
     "output_type": "execute_result"
    }
   ],
   "source": [
    "df_source = pd.read_csv('prepared_data/source_data_train_1.csv')\n",
    "df_source.shape"
   ]
  },
  {
   "cell_type": "code",
   "execution_count": 19,
   "id": "fcd5991d-f0bb-4517-a2cd-36620a1315c6",
   "metadata": {},
   "outputs": [
    {
     "data": {
      "text/plain": [
       "(2400000, 61)"
      ]
     },
     "execution_count": 19,
     "metadata": {},
     "output_type": "execute_result"
    }
   ],
   "source": [
    "df_result = pd.read_csv('prepared_data/cut_corr_imp_train.csv')\n",
    "df_result.shape"
   ]
  },
  {
   "cell_type": "code",
   "execution_count": 60,
   "id": "2bf0aa41-c0dd-4ed2-8534-66510b827c10",
   "metadata": {},
   "outputs": [
    {
     "data": {
      "text/plain": [
       "['id',\n",
       " 'rn',\n",
       " 'pre_since_opened',\n",
       " 'pre_since_confirmed',\n",
       " 'pre_pterm',\n",
       " 'pre_fterm',\n",
       " 'pre_till_pclose',\n",
       " 'pre_till_fclose',\n",
       " 'pre_loans_credit_limit',\n",
       " 'pre_loans_next_pay_summ']"
      ]
     },
     "execution_count": 60,
     "metadata": {},
     "output_type": "execute_result"
    }
   ],
   "source": [
    "df_source_columns = df.columns.tolist()\n",
    "df_source_columns[:10]"
   ]
  },
  {
   "cell_type": "code",
   "execution_count": 61,
   "id": "9cd7d089-961c-4f50-8027-fa8d06f64510",
   "metadata": {},
   "outputs": [
    {
     "data": {
      "text/plain": [
       "['id',\n",
       " 'flag',\n",
       " 'is_zero_sum_prop_1',\n",
       " 'enc_paym_avg_0_1_this_year_diff',\n",
       " 'pre_util_prop_3',\n",
       " 'enc_loans_credit_type_prop_0',\n",
       " 'pre_till_pclose_prop_10',\n",
       " 'pre_util_prop_6',\n",
       " 'pre_loans_outstanding_prop_1',\n",
       " 'pre_util_mean_freq']"
      ]
     },
     "execution_count": 61,
     "metadata": {},
     "output_type": "execute_result"
    }
   ],
   "source": [
    "df_result_columns = df_train.columns.tolist()\n",
    "df_result_columns[:10]"
   ]
  },
  {
   "cell_type": "code",
   "execution_count": 62,
   "id": "fbf36f36-3bbf-4834-9a5d-f23dd1d5f796",
   "metadata": {},
   "outputs": [
    {
     "name": "stdout",
     "output_type": "stream",
     "text": [
      "30\n"
     ]
    },
    {
     "data": {
      "text/plain": [
       "['pre_loans_total_overdue',\n",
       " 'pre_loans3060',\n",
       " 'pre_loans6090',\n",
       " 'pre_loans90',\n",
       " 'is_zero_loans3060',\n",
       " 'is_zero_loans6090',\n",
       " 'is_zero_loans90',\n",
       " 'pre_maxover2limit',\n",
       " 'is_zero_util',\n",
       " 'is_zero_maxover2limit',\n",
       " 'enc_paym_3',\n",
       " 'enc_paym_4',\n",
       " 'enc_paym_5',\n",
       " 'enc_paym_6',\n",
       " 'enc_paym_7',\n",
       " 'enc_paym_11',\n",
       " 'enc_paym_12',\n",
       " 'enc_paym_13',\n",
       " 'enc_paym_14',\n",
       " 'enc_paym_15',\n",
       " 'enc_paym_16',\n",
       " 'enc_paym_17',\n",
       " 'enc_paym_18',\n",
       " 'enc_paym_19',\n",
       " 'enc_paym_20',\n",
       " 'enc_paym_21',\n",
       " 'enc_paym_22',\n",
       " 'enc_paym_23',\n",
       " 'pclose_flag',\n",
       " 'fclose_flag']"
      ]
     },
     "execution_count": 62,
     "metadata": {},
     "output_type": "execute_result"
    }
   ],
   "source": [
    "'''\n",
    "Формируем список колонок из df_source_columns,\n",
    "которые НЕ встречаются ни в одном названии из df_result_columns как подстрока.\n",
    "'''\n",
    "drop_list = []\n",
    "for col_source in df_source_columns:\n",
    "    found = False\n",
    "    for col_result in df_result_columns:\n",
    "        if col_source in col_result:\n",
    "            found = True\n",
    "            break\n",
    "    if not found:\n",
    "        drop_list.append(col_source)\n",
    "\n",
    "print(len(drop_list))\n",
    "drop_list"
   ]
  },
  {
   "cell_type": "code",
   "execution_count": 63,
   "id": "2bd47bf9-694c-4bfd-acec-fa2ae3ab047f",
   "metadata": {},
   "outputs": [
    {
     "name": "stdout",
     "output_type": "stream",
     "text": [
      "31\n"
     ]
    },
    {
     "data": {
      "text/plain": [
       "['id',\n",
       " 'rn',\n",
       " 'pre_since_opened',\n",
       " 'pre_since_confirmed',\n",
       " 'pre_pterm',\n",
       " 'pre_fterm',\n",
       " 'pre_till_pclose',\n",
       " 'pre_till_fclose',\n",
       " 'pre_loans_credit_limit',\n",
       " 'pre_loans_next_pay_summ']"
      ]
     },
     "execution_count": 63,
     "metadata": {},
     "output_type": "execute_result"
    }
   ],
   "source": [
    "needed_columns = [x for x in df_source_columns if x not in drop_list]\n",
    "\n",
    "print(len(needed_columns))\n",
    "needed_columns[:10]"
   ]
  },
  {
   "cell_type": "code",
   "execution_count": 64,
   "id": "84483ca2-71ed-41d2-b503-624f146a9458",
   "metadata": {},
   "outputs": [
    {
     "name": "stdout",
     "output_type": "stream",
     "text": [
      "52\n"
     ]
    },
    {
     "data": {
      "text/plain": [
       "['id',\n",
       " 'rn',\n",
       " 'pre_since_opened',\n",
       " 'pre_since_confirmed',\n",
       " 'pre_pterm',\n",
       " 'pre_fterm',\n",
       " 'pre_till_pclose',\n",
       " 'pre_till_fclose',\n",
       " 'pre_loans_credit_limit',\n",
       " 'pre_loans_next_pay_summ']"
      ]
     },
     "execution_count": 64,
     "metadata": {},
     "output_type": "execute_result"
    }
   ],
   "source": [
    "'''\n",
    "Добавим недостающие признаки из групп flag_features и enc_paym _features, \n",
    "для правильной работы функций обрабатывающих эти группы. \n",
    "'''\n",
    "features_list= [\n",
    "    'is_zero_loans3060',\n",
    "    'is_zero_loans6090',\n",
    "    'is_zero_loans90',\n",
    "    'enc_paym_3',\n",
    "    'enc_paym_4',\n",
    "    'enc_paym_5',\n",
    "    'enc_paym_6',\n",
    "    'enc_paym_7',\n",
    "    'enc_paym_11',\n",
    "    'enc_paym_12',\n",
    "    'enc_paym_13',\n",
    "    'enc_paym_14',\n",
    "    'enc_paym_15',\n",
    "    'enc_paym_16',\n",
    "    'enc_paym_17',\n",
    "    'enc_paym_18',\n",
    "    'enc_paym_19',\n",
    "    'enc_paym_20',\n",
    "    'enc_paym_21',\n",
    "    'enc_paym_22',\n",
    "    'enc_paym_23'\n",
    "]\n",
    "\n",
    "# Список признаков для скачивания из исходного датасета\n",
    "needed_columns = needed_columns + features_list\n",
    "\n",
    "print(len(needed_columns))\n",
    "needed_columns[:10]"
   ]
  },
  {
   "cell_type": "markdown",
   "id": "ad3774b5-4a4d-417c-972e-6f998596816f",
   "metadata": {},
   "source": [
    "# Pipeline"
   ]
  },
  {
   "cell_type": "code",
   "execution_count": 68,
   "id": "cf6d693b-65ab-4f66-b7fd-93020e230eff",
   "metadata": {},
   "outputs": [],
   "source": [
    "# СКАЧИВАЕМ ИСХОДНЫЙ ДАТАСЕТ\n",
    "# Путь до данных в проекте\n",
    "path = 'train_data/'\n",
    "\n",
    "def read_parquet_dataset_from_local(\n",
    "    path_to_dataset: str,\n",
    "    start_from: int = 0,\n",
    "    num_parts_to_read: int = 2,\n",
    "    columns: Optional[List[str]] = None,\n",
    "    verbose: bool = False\n",
    ") -> pd.DataFrame:\n",
    "    '''\n",
    "    Функция читает num_parts_to_read партиций, преобразовывает их к pd.DataFrame и возвращает.\n",
    "\n",
    "    Параметры:\n",
    "    path_to_dataset : путь до директории с партициями\n",
    "    start_from : номер партиции, с которой нужно начать чтение\n",
    "    num_parts_to_read : количество партиций, которые требуется прочитать\n",
    "    columns : список колонок, которые нужно прочитать из партиции\n",
    "    verbose : выводить ли дополнительную информацию\n",
    "    \n",
    "    Возвращает:\n",
    "    pd.DataFrame \n",
    "    '''\n",
    "    res = []\n",
    "    dataset_paths = sorted(\n",
    "        os.path.join(path_to_dataset, filename)\n",
    "        for filename in os.listdir(path_to_dataset)\n",
    "        if filename.startswith('train')\n",
    "    )\n",
    "\n",
    "    if verbose:\n",
    "        print('Dataset paths:')\n",
    "        for path in dataset_paths:\n",
    "            print(path)\n",
    "\n",
    "    start_from = max(0, start_from)\n",
    "    chunks = dataset_paths[start_from: start_from + num_parts_to_read]\n",
    "\n",
    "    if verbose:\n",
    "        print('Reading chunks:')\n",
    "        for chunk in chunks:\n",
    "            print(chunk)\n",
    "\n",
    "    for chunk_path in tqdm(chunks, desc=\"Reading dataset with pandas\"):\n",
    "        if verbose:\n",
    "            print('Reading chunk:', chunk_path)\n",
    "        chunk = pd.read_parquet(chunk_path, columns=columns)\n",
    "        res.append(chunk)\n",
    "\n",
    "    return pd.concat(res).reset_index(drop=True)\n",
    "\n",
    "def prepare_transactions_dataset(\n",
    "    path_to_dataset: str,\n",
    "    num_parts_to_preprocess_at_once: int = 1,\n",
    "    num_parts_total: int = 50,\n",
    "    save_to_path: str = None,\n",
    "    verbose: bool = False,\n",
    "    columns: Optional[List[str]] = None\n",
    ") -> pd.DataFrame:\n",
    "    '''\n",
    "    Функция возвращает исходный pd.DataFrame с признаками из которых нужно собрать\n",
    "    учебный датасет.\n",
    "\n",
    "    Параметры:\n",
    "    path_to_dataset : путь до датасета с партициями\n",
    "    num_parts_to_preprocess_at_once : количество партиций, \n",
    "        которые будут одновременно держаться и обрабатываться в памяти\n",
    "    num_parts_total : общее количество партиций, которые нужно обработать\n",
    "    save_to_path : путь до папки для сохранения обработанных блоков в .parquet-формате; \n",
    "        если None, сохранение не происходит\n",
    "    verbose : логировать каждую обрабатываемую часть данных\n",
    "    columns : список колонок, которые нужно оставить\n",
    "\n",
    "    Возвращает:\n",
    "    pd.DataFrame : датафрейм с объединёнными данными\n",
    "    '''\n",
    "    preprocessed_frames = []\n",
    "\n",
    "    for step in tqdm(range(0, num_parts_total, num_parts_to_preprocess_at_once),\n",
    "                     desc=\"Transforming transactions data\"):\n",
    "        transactions_frame = read_parquet_dataset_from_local(\n",
    "            path_to_dataset,\n",
    "            start_from=step,\n",
    "            num_parts_to_read=num_parts_to_preprocess_at_once,\n",
    "            verbose=verbose,\n",
    "            columns=columns\n",
    "        )\n",
    "\n",
    "       # Записываем подготовленные данные в файл\n",
    "        if save_to_path:\n",
    "            block_as_str = str(step)\n",
    "            if len(block_as_str) == 1:\n",
    "                block_as_str = '00' + block_as_str\n",
    "            else:\n",
    "                block_as_str = '0' + block_as_str\n",
    "            transactions_frame.to_parquet(os.path.join(save_to_path, f'processed_chunk_{block_as_str}.parquet'))\n",
    "\n",
    "        preprocessed_frames.append(transactions_frame)\n",
    "    \n",
    "    return pd.concat(preprocessed_frames)"
   ]
  },
  {
   "cell_type": "code",
   "execution_count": 143,
   "id": "938b8752-54e0-415c-9c1a-5345f1fe9210",
   "metadata": {},
   "outputs": [
    {
     "data": {
      "application/vnd.jupyter.widget-view+json": {
       "model_id": "c71bfd42b3e846a0a7aa34052414948c",
       "version_major": 2,
       "version_minor": 0
      },
      "text/plain": [
       "Transforming transactions data:   0%|          | 0/12 [00:00<?, ?it/s]"
      ]
     },
     "metadata": {},
     "output_type": "display_data"
    },
    {
     "data": {
      "application/vnd.jupyter.widget-view+json": {
       "model_id": "ff9842e8800d492285cf272b5bc425bf",
       "version_major": 2,
       "version_minor": 0
      },
      "text/plain": [
       "Reading dataset with pandas:   0%|          | 0/1 [00:00<?, ?it/s]"
      ]
     },
     "metadata": {},
     "output_type": "display_data"
    },
    {
     "data": {
      "application/vnd.jupyter.widget-view+json": {
       "model_id": "64820417b7824517b5473fba3eecd8ce",
       "version_major": 2,
       "version_minor": 0
      },
      "text/plain": [
       "Reading dataset with pandas:   0%|          | 0/1 [00:00<?, ?it/s]"
      ]
     },
     "metadata": {},
     "output_type": "display_data"
    },
    {
     "data": {
      "application/vnd.jupyter.widget-view+json": {
       "model_id": "b810d1e3de194734b19d8f660263e3c8",
       "version_major": 2,
       "version_minor": 0
      },
      "text/plain": [
       "Reading dataset with pandas:   0%|          | 0/1 [00:00<?, ?it/s]"
      ]
     },
     "metadata": {},
     "output_type": "display_data"
    },
    {
     "data": {
      "application/vnd.jupyter.widget-view+json": {
       "model_id": "242df1c0ad9d419f9b727b4f3d5cd7b1",
       "version_major": 2,
       "version_minor": 0
      },
      "text/plain": [
       "Reading dataset with pandas:   0%|          | 0/1 [00:00<?, ?it/s]"
      ]
     },
     "metadata": {},
     "output_type": "display_data"
    },
    {
     "data": {
      "application/vnd.jupyter.widget-view+json": {
       "model_id": "1166a686bbad4f9a837874a07935d06b",
       "version_major": 2,
       "version_minor": 0
      },
      "text/plain": [
       "Reading dataset with pandas:   0%|          | 0/1 [00:00<?, ?it/s]"
      ]
     },
     "metadata": {},
     "output_type": "display_data"
    },
    {
     "data": {
      "application/vnd.jupyter.widget-view+json": {
       "model_id": "fba7fc680f764be9834778198769a898",
       "version_major": 2,
       "version_minor": 0
      },
      "text/plain": [
       "Reading dataset with pandas:   0%|          | 0/1 [00:00<?, ?it/s]"
      ]
     },
     "metadata": {},
     "output_type": "display_data"
    },
    {
     "data": {
      "application/vnd.jupyter.widget-view+json": {
       "model_id": "33cccd205b2b4c298dbeee35683a3b6a",
       "version_major": 2,
       "version_minor": 0
      },
      "text/plain": [
       "Reading dataset with pandas:   0%|          | 0/1 [00:00<?, ?it/s]"
      ]
     },
     "metadata": {},
     "output_type": "display_data"
    },
    {
     "data": {
      "application/vnd.jupyter.widget-view+json": {
       "model_id": "3fd4d3a4fb2a48fcb80064e697dcb210",
       "version_major": 2,
       "version_minor": 0
      },
      "text/plain": [
       "Reading dataset with pandas:   0%|          | 0/1 [00:00<?, ?it/s]"
      ]
     },
     "metadata": {},
     "output_type": "display_data"
    },
    {
     "data": {
      "application/vnd.jupyter.widget-view+json": {
       "model_id": "b20fcfc233dd4678a322d6378e6de1b8",
       "version_major": 2,
       "version_minor": 0
      },
      "text/plain": [
       "Reading dataset with pandas:   0%|          | 0/1 [00:00<?, ?it/s]"
      ]
     },
     "metadata": {},
     "output_type": "display_data"
    },
    {
     "data": {
      "application/vnd.jupyter.widget-view+json": {
       "model_id": "b3c84a4a182c443291111e7eb0fa245e",
       "version_major": 2,
       "version_minor": 0
      },
      "text/plain": [
       "Reading dataset with pandas:   0%|          | 0/1 [00:00<?, ?it/s]"
      ]
     },
     "metadata": {},
     "output_type": "display_data"
    },
    {
     "data": {
      "application/vnd.jupyter.widget-view+json": {
       "model_id": "4dbd476ca3eb49f3a4a7444cf6ed0ed2",
       "version_major": 2,
       "version_minor": 0
      },
      "text/plain": [
       "Reading dataset with pandas:   0%|          | 0/1 [00:00<?, ?it/s]"
      ]
     },
     "metadata": {},
     "output_type": "display_data"
    },
    {
     "data": {
      "application/vnd.jupyter.widget-view+json": {
       "model_id": "80f7e4d5b83c4183b0a45a9fe3bfa92b",
       "version_major": 2,
       "version_minor": 0
      },
      "text/plain": [
       "Reading dataset with pandas:   0%|          | 0/1 [00:00<?, ?it/s]"
      ]
     },
     "metadata": {},
     "output_type": "display_data"
    },
    {
     "data": {
      "text/plain": [
       "((20931476, 52), (5231241, 52), (2400000,), (600000,))"
      ]
     },
     "execution_count": 143,
     "metadata": {},
     "output_type": "execute_result"
    }
   ],
   "source": [
    "'''\n",
    "Собираем исходный датасет из parquet файлов,  \n",
    "скачиваем только необходимые колонки\n",
    "'''\n",
    "data = prepare_transactions_dataset(\n",
    "    path,\n",
    "    num_parts_to_preprocess_at_once=1,\n",
    "    num_parts_total=12,\n",
    "    save_to_path='train_data/',\n",
    "    columns=needed_columns) \n",
    "\n",
    "# Загружаем датасет с целевой переменной\n",
    "target = pd.read_csv('train_target.csv')\n",
    "\n",
    "# Делим датасет с целевой переменной на train/test части\n",
    "y_train, y_test  = train_test_split(target, train_size=0.8, random_state=0, stratify=target.flag)\n",
    "\n",
    "# Забираем наборы id из train/test\n",
    "train_id = y_train['id'].values\n",
    "test_id = y_test['id'].values\n",
    "\n",
    "# На основе наборов id делим исходный датасет на train/test части\n",
    "X_train = data.set_index('id').loc[train_id].reset_index()\n",
    "X_test = data.set_index('id').loc[test_id].reset_index()\n",
    "\n",
    "# Сбросим индексы для приведения к единому виду с X_train/X_test \n",
    "y_train = y_train.reset_index(drop=True)['flag']\n",
    "y_test = y_test.reset_index(drop=True)['flag']\n",
    "\n",
    "X_train.shape, X_test.shape, y_train.shape, y_test.shape"
   ]
  },
  {
   "cell_type": "code",
   "execution_count": 144,
   "id": "0392a984-602b-4c1a-a93f-17f0bba0c7da",
   "metadata": {},
   "outputs": [
    {
     "data": {
      "text/plain": [
       "((20931476, 52), (5231241, 52), (2400000,), (600000,))"
      ]
     },
     "execution_count": 144,
     "metadata": {},
     "output_type": "execute_result"
    }
   ],
   "source": [
    "# Сохраним разделённые данные\n",
    "X_train.to_csv('pipeline/X_train.csv', index=False)\n",
    "X_test.to_csv('pipeline/X_test.csv', index=False)\n",
    "y_train.to_csv('pipeline/y_train.csv', index=False)\n",
    "y_test.to_csv('pipeline/y_test.csv', index=False)\n",
    "X_train.shape, X_test.shape, y_train.shape, y_test.shape"
   ]
  },
  {
   "cell_type": "code",
   "execution_count": 145,
   "id": "44231b7d-9226-4aad-a823-ffcbe7db8e67",
   "metadata": {},
   "outputs": [
    {
     "data": {
      "text/plain": [
       "((20931476, 52), (5231241, 52), (2400000, 1), (600000, 1))"
      ]
     },
     "execution_count": 145,
     "metadata": {},
     "output_type": "execute_result"
    }
   ],
   "source": [
    "# Загружаем исходные разделённые данные \n",
    "X_train = pd.read_csv('pipeline/X_train.csv')\n",
    "X_test = pd.read_csv('pipeline/X_test.csv')\n",
    "y_train = pd.read_csv('pipeline/y_train.csv')\n",
    "y_test = pd.read_csv('pipeline/y_test.csv')\n",
    "X_train.shape, X_test.shape, y_train.shape, y_test.shape"
   ]
  },
  {
   "cell_type": "code",
   "execution_count": null,
   "id": "213f8a5f-e2a4-4b47-bab6-7303f190bcc0",
   "metadata": {},
   "outputs": [],
   "source": []
  },
  {
   "cell_type": "code",
   "execution_count": null,
   "id": "cd45064b-0b01-4361-962c-424482e7b52b",
   "metadata": {},
   "outputs": [],
   "source": []
  },
  {
   "cell_type": "code",
   "execution_count": null,
   "id": "ce50def9-743a-476a-a6ae-00ead6bea5ab",
   "metadata": {},
   "outputs": [],
   "source": []
  },
  {
   "cell_type": "code",
   "execution_count": 160,
   "id": "ce7a2c04-10f3-453d-b920-d4793f0fa03f",
   "metadata": {},
   "outputs": [
    {
     "name": "stdout",
     "output_type": "stream",
     "text": [
      "X_train_1.shape (1000, 52)\n",
      "y_train_1.shape (1000, 1)\n",
      "X_test_1.shape (1000, 52)\n",
      "y_test_1.shape (1000, 1)\n"
     ]
    }
   ],
   "source": [
    "# Возьмём небольшую часть датасета для быстрой отладки пайплайна\n",
    "X_train_1 = X_train[:1000].copy()\n",
    "y_train_1 = y_train[:1000].copy()\n",
    "print('X_train_1.shape', X_train_1.shape)\n",
    "print('y_train_1.shape', y_train_1.shape)\n",
    "\n",
    "X_test_1 = X_test[:1000].copy()\n",
    "y_test_1 = y_test[:1000].copy()\n",
    "print('X_test_1.shape', X_test_1.shape)\n",
    "print('y_test_1.shape', y_test_1.shape)"
   ]
  },
  {
   "cell_type": "code",
   "execution_count": 161,
   "id": "2585a60f-ea6e-46d4-a562-c3662858e5f1",
   "metadata": {},
   "outputs": [],
   "source": [
    "# ПРЕПРОЦЕССИНГ ДАННЫХ\n",
    "\n",
    "def convert_all_to_numeric(df):\n",
    "    '''\n",
    "    Функция преобразует типы всех колоноки в числовые с заменой ошибок на NaN.\n",
    "    '''\n",
    "    return df.apply(lambda col: pd.to_numeric(col, errors='coerce'))"
   ]
  },
  {
   "cell_type": "code",
   "execution_count": 162,
   "id": "3417c72d-5480-4485-bf36-277a44b44208",
   "metadata": {},
   "outputs": [
    {
     "data": {
      "text/html": [
       "<div>\n",
       "<style scoped>\n",
       "    .dataframe tbody tr th:only-of-type {\n",
       "        vertical-align: middle;\n",
       "    }\n",
       "\n",
       "    .dataframe tbody tr th {\n",
       "        vertical-align: top;\n",
       "    }\n",
       "\n",
       "    .dataframe thead th {\n",
       "        text-align: right;\n",
       "    }\n",
       "</style>\n",
       "<table border=\"1\" class=\"dataframe\">\n",
       "  <thead>\n",
       "    <tr style=\"text-align: right;\">\n",
       "      <th></th>\n",
       "      <th>id</th>\n",
       "      <th>rn</th>\n",
       "      <th>pre_since_opened</th>\n",
       "      <th>pre_since_confirmed</th>\n",
       "      <th>pre_pterm</th>\n",
       "      <th>pre_fterm</th>\n",
       "      <th>pre_till_pclose</th>\n",
       "      <th>pre_till_fclose</th>\n",
       "      <th>pre_loans_credit_limit</th>\n",
       "      <th>pre_loans_next_pay_summ</th>\n",
       "      <th>...</th>\n",
       "      <th>enc_paym_14</th>\n",
       "      <th>enc_paym_15</th>\n",
       "      <th>enc_paym_16</th>\n",
       "      <th>enc_paym_17</th>\n",
       "      <th>enc_paym_18</th>\n",
       "      <th>enc_paym_19</th>\n",
       "      <th>enc_paym_20</th>\n",
       "      <th>enc_paym_21</th>\n",
       "      <th>enc_paym_22</th>\n",
       "      <th>enc_paym_23</th>\n",
       "    </tr>\n",
       "  </thead>\n",
       "  <tbody>\n",
       "    <tr>\n",
       "      <th>0</th>\n",
       "      <td>1506130</td>\n",
       "      <td>1</td>\n",
       "      <td>10</td>\n",
       "      <td>6</td>\n",
       "      <td>1</td>\n",
       "      <td>16</td>\n",
       "      <td>3</td>\n",
       "      <td>5</td>\n",
       "      <td>0</td>\n",
       "      <td>5</td>\n",
       "      <td>...</td>\n",
       "      <td>0</td>\n",
       "      <td>0</td>\n",
       "      <td>0</td>\n",
       "      <td>0</td>\n",
       "      <td>0</td>\n",
       "      <td>0</td>\n",
       "      <td>1</td>\n",
       "      <td>0</td>\n",
       "      <td>0</td>\n",
       "      <td>0</td>\n",
       "    </tr>\n",
       "    <tr>\n",
       "      <th>1</th>\n",
       "      <td>1506130</td>\n",
       "      <td>2</td>\n",
       "      <td>10</td>\n",
       "      <td>6</td>\n",
       "      <td>4</td>\n",
       "      <td>13</td>\n",
       "      <td>1</td>\n",
       "      <td>7</td>\n",
       "      <td>15</td>\n",
       "      <td>5</td>\n",
       "      <td>...</td>\n",
       "      <td>0</td>\n",
       "      <td>0</td>\n",
       "      <td>0</td>\n",
       "      <td>0</td>\n",
       "      <td>0</td>\n",
       "      <td>0</td>\n",
       "      <td>1</td>\n",
       "      <td>0</td>\n",
       "      <td>0</td>\n",
       "      <td>0</td>\n",
       "    </tr>\n",
       "    <tr>\n",
       "      <th>2</th>\n",
       "      <td>1506130</td>\n",
       "      <td>3</td>\n",
       "      <td>5</td>\n",
       "      <td>9</td>\n",
       "      <td>17</td>\n",
       "      <td>8</td>\n",
       "      <td>1</td>\n",
       "      <td>11</td>\n",
       "      <td>15</td>\n",
       "      <td>2</td>\n",
       "      <td>...</td>\n",
       "      <td>0</td>\n",
       "      <td>0</td>\n",
       "      <td>0</td>\n",
       "      <td>0</td>\n",
       "      <td>0</td>\n",
       "      <td>0</td>\n",
       "      <td>1</td>\n",
       "      <td>0</td>\n",
       "      <td>0</td>\n",
       "      <td>0</td>\n",
       "    </tr>\n",
       "    <tr>\n",
       "      <th>3</th>\n",
       "      <td>1506130</td>\n",
       "      <td>4</td>\n",
       "      <td>11</td>\n",
       "      <td>1</td>\n",
       "      <td>15</td>\n",
       "      <td>9</td>\n",
       "      <td>2</td>\n",
       "      <td>6</td>\n",
       "      <td>2</td>\n",
       "      <td>2</td>\n",
       "      <td>...</td>\n",
       "      <td>3</td>\n",
       "      <td>3</td>\n",
       "      <td>3</td>\n",
       "      <td>3</td>\n",
       "      <td>3</td>\n",
       "      <td>3</td>\n",
       "      <td>4</td>\n",
       "      <td>3</td>\n",
       "      <td>3</td>\n",
       "      <td>3</td>\n",
       "    </tr>\n",
       "    <tr>\n",
       "      <th>4</th>\n",
       "      <td>1506130</td>\n",
       "      <td>5</td>\n",
       "      <td>1</td>\n",
       "      <td>9</td>\n",
       "      <td>15</td>\n",
       "      <td>8</td>\n",
       "      <td>1</td>\n",
       "      <td>11</td>\n",
       "      <td>2</td>\n",
       "      <td>5</td>\n",
       "      <td>...</td>\n",
       "      <td>3</td>\n",
       "      <td>3</td>\n",
       "      <td>3</td>\n",
       "      <td>3</td>\n",
       "      <td>3</td>\n",
       "      <td>3</td>\n",
       "      <td>4</td>\n",
       "      <td>3</td>\n",
       "      <td>3</td>\n",
       "      <td>3</td>\n",
       "    </tr>\n",
       "    <tr>\n",
       "      <th>...</th>\n",
       "      <td>...</td>\n",
       "      <td>...</td>\n",
       "      <td>...</td>\n",
       "      <td>...</td>\n",
       "      <td>...</td>\n",
       "      <td>...</td>\n",
       "      <td>...</td>\n",
       "      <td>...</td>\n",
       "      <td>...</td>\n",
       "      <td>...</td>\n",
       "      <td>...</td>\n",
       "      <td>...</td>\n",
       "      <td>...</td>\n",
       "      <td>...</td>\n",
       "      <td>...</td>\n",
       "      <td>...</td>\n",
       "      <td>...</td>\n",
       "      <td>...</td>\n",
       "      <td>...</td>\n",
       "      <td>...</td>\n",
       "      <td>...</td>\n",
       "    </tr>\n",
       "    <tr>\n",
       "      <th>995</th>\n",
       "      <td>348416</td>\n",
       "      <td>4</td>\n",
       "      <td>7</td>\n",
       "      <td>0</td>\n",
       "      <td>16</td>\n",
       "      <td>8</td>\n",
       "      <td>12</td>\n",
       "      <td>11</td>\n",
       "      <td>16</td>\n",
       "      <td>2</td>\n",
       "      <td>...</td>\n",
       "      <td>3</td>\n",
       "      <td>3</td>\n",
       "      <td>3</td>\n",
       "      <td>3</td>\n",
       "      <td>3</td>\n",
       "      <td>3</td>\n",
       "      <td>4</td>\n",
       "      <td>3</td>\n",
       "      <td>3</td>\n",
       "      <td>3</td>\n",
       "    </tr>\n",
       "    <tr>\n",
       "      <th>996</th>\n",
       "      <td>2451179</td>\n",
       "      <td>1</td>\n",
       "      <td>16</td>\n",
       "      <td>7</td>\n",
       "      <td>4</td>\n",
       "      <td>8</td>\n",
       "      <td>1</td>\n",
       "      <td>11</td>\n",
       "      <td>4</td>\n",
       "      <td>2</td>\n",
       "      <td>...</td>\n",
       "      <td>0</td>\n",
       "      <td>0</td>\n",
       "      <td>0</td>\n",
       "      <td>0</td>\n",
       "      <td>0</td>\n",
       "      <td>0</td>\n",
       "      <td>1</td>\n",
       "      <td>0</td>\n",
       "      <td>0</td>\n",
       "      <td>0</td>\n",
       "    </tr>\n",
       "    <tr>\n",
       "      <th>997</th>\n",
       "      <td>2451179</td>\n",
       "      <td>2</td>\n",
       "      <td>15</td>\n",
       "      <td>4</td>\n",
       "      <td>4</td>\n",
       "      <td>8</td>\n",
       "      <td>1</td>\n",
       "      <td>11</td>\n",
       "      <td>4</td>\n",
       "      <td>2</td>\n",
       "      <td>...</td>\n",
       "      <td>0</td>\n",
       "      <td>0</td>\n",
       "      <td>0</td>\n",
       "      <td>0</td>\n",
       "      <td>0</td>\n",
       "      <td>0</td>\n",
       "      <td>1</td>\n",
       "      <td>0</td>\n",
       "      <td>0</td>\n",
       "      <td>3</td>\n",
       "    </tr>\n",
       "    <tr>\n",
       "      <th>998</th>\n",
       "      <td>2451179</td>\n",
       "      <td>3</td>\n",
       "      <td>15</td>\n",
       "      <td>12</td>\n",
       "      <td>12</td>\n",
       "      <td>16</td>\n",
       "      <td>9</td>\n",
       "      <td>13</td>\n",
       "      <td>2</td>\n",
       "      <td>2</td>\n",
       "      <td>...</td>\n",
       "      <td>0</td>\n",
       "      <td>0</td>\n",
       "      <td>0</td>\n",
       "      <td>0</td>\n",
       "      <td>0</td>\n",
       "      <td>0</td>\n",
       "      <td>1</td>\n",
       "      <td>0</td>\n",
       "      <td>0</td>\n",
       "      <td>0</td>\n",
       "    </tr>\n",
       "    <tr>\n",
       "      <th>999</th>\n",
       "      <td>2451179</td>\n",
       "      <td>4</td>\n",
       "      <td>15</td>\n",
       "      <td>11</td>\n",
       "      <td>0</td>\n",
       "      <td>7</td>\n",
       "      <td>16</td>\n",
       "      <td>7</td>\n",
       "      <td>15</td>\n",
       "      <td>2</td>\n",
       "      <td>...</td>\n",
       "      <td>0</td>\n",
       "      <td>0</td>\n",
       "      <td>0</td>\n",
       "      <td>0</td>\n",
       "      <td>0</td>\n",
       "      <td>0</td>\n",
       "      <td>1</td>\n",
       "      <td>0</td>\n",
       "      <td>0</td>\n",
       "      <td>0</td>\n",
       "    </tr>\n",
       "  </tbody>\n",
       "</table>\n",
       "<p>1000 rows × 52 columns</p>\n",
       "</div>"
      ],
      "text/plain": [
       "          id  rn  pre_since_opened  pre_since_confirmed  pre_pterm  pre_fterm  \\\n",
       "0    1506130   1                10                    6          1         16   \n",
       "1    1506130   2                10                    6          4         13   \n",
       "2    1506130   3                 5                    9         17          8   \n",
       "3    1506130   4                11                    1         15          9   \n",
       "4    1506130   5                 1                    9         15          8   \n",
       "..       ...  ..               ...                  ...        ...        ...   \n",
       "995   348416   4                 7                    0         16          8   \n",
       "996  2451179   1                16                    7          4          8   \n",
       "997  2451179   2                15                    4          4          8   \n",
       "998  2451179   3                15                   12         12         16   \n",
       "999  2451179   4                15                   11          0          7   \n",
       "\n",
       "     pre_till_pclose  pre_till_fclose  pre_loans_credit_limit  \\\n",
       "0                  3                5                       0   \n",
       "1                  1                7                      15   \n",
       "2                  1               11                      15   \n",
       "3                  2                6                       2   \n",
       "4                  1               11                       2   \n",
       "..               ...              ...                     ...   \n",
       "995               12               11                      16   \n",
       "996                1               11                       4   \n",
       "997                1               11                       4   \n",
       "998                9               13                       2   \n",
       "999               16                7                      15   \n",
       "\n",
       "     pre_loans_next_pay_summ  ...  enc_paym_14  enc_paym_15  enc_paym_16  \\\n",
       "0                          5  ...            0            0            0   \n",
       "1                          5  ...            0            0            0   \n",
       "2                          2  ...            0            0            0   \n",
       "3                          2  ...            3            3            3   \n",
       "4                          5  ...            3            3            3   \n",
       "..                       ...  ...          ...          ...          ...   \n",
       "995                        2  ...            3            3            3   \n",
       "996                        2  ...            0            0            0   \n",
       "997                        2  ...            0            0            0   \n",
       "998                        2  ...            0            0            0   \n",
       "999                        2  ...            0            0            0   \n",
       "\n",
       "     enc_paym_17  enc_paym_18  enc_paym_19  enc_paym_20  enc_paym_21  \\\n",
       "0              0            0            0            1            0   \n",
       "1              0            0            0            1            0   \n",
       "2              0            0            0            1            0   \n",
       "3              3            3            3            4            3   \n",
       "4              3            3            3            4            3   \n",
       "..           ...          ...          ...          ...          ...   \n",
       "995            3            3            3            4            3   \n",
       "996            0            0            0            1            0   \n",
       "997            0            0            0            1            0   \n",
       "998            0            0            0            1            0   \n",
       "999            0            0            0            1            0   \n",
       "\n",
       "     enc_paym_22  enc_paym_23  \n",
       "0              0            0  \n",
       "1              0            0  \n",
       "2              0            0  \n",
       "3              3            3  \n",
       "4              3            3  \n",
       "..           ...          ...  \n",
       "995            3            3  \n",
       "996            0            0  \n",
       "997            0            3  \n",
       "998            0            0  \n",
       "999            0            0  \n",
       "\n",
       "[1000 rows x 52 columns]"
      ]
     },
     "execution_count": 162,
     "metadata": {},
     "output_type": "execute_result"
    }
   ],
   "source": [
    "# Создаём SimpleImputer и настраиваем вывод в pandas DataFrame\n",
    "imputer = SimpleImputer(strategy='median')\n",
    "imputer.set_output(transform='pandas')\n",
    "\n",
    "# Создаём паплайн препроцессинга\n",
    "preprocessing_pipe = Pipeline([\n",
    "    ('to_numeric', FunctionTransformer(convert_all_to_numeric)),\n",
    "    ('imputer', imputer),\n",
    "    ('to_int', FunctionTransformer(lambda df: df.astype(int), validate=False)),\n",
    "    ('drop_duplicates', FunctionTransformer(lambda df: df.drop_duplicates(), validate=False))\n",
    "])\n",
    "\n",
    "# Создаём пайплайн\n",
    "main_pipe = Pipeline([\n",
    "    ('preprocessing', preprocessing_pipeline),\n",
    "])\n",
    "\n",
    "\n",
    "# Трансформируем train датасет\n",
    "X_train_1 = main_pipe.fit_transform(X_train_1)\n",
    "\n",
    "X_train_1"
   ]
  },
  {
   "cell_type": "markdown",
   "id": "956d7cab-b88a-42da-aa97-23ea9f69d45d",
   "metadata": {},
   "source": []
  }
 ],
 "metadata": {
  "kernelspec": {
   "display_name": "Python 3 (ipykernel)",
   "language": "python",
   "name": "python3"
  },
  "language_info": {
   "codemirror_mode": {
    "name": "ipython",
    "version": 3
   },
   "file_extension": ".py",
   "mimetype": "text/x-python",
   "name": "python",
   "nbconvert_exporter": "python",
   "pygments_lexer": "ipython3",
   "version": "3.12.10"
  }
 },
 "nbformat": 4,
 "nbformat_minor": 5
}
